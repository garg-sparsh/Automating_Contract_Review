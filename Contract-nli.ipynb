{
 "cells": [
  {
   "cell_type": "markdown",
   "metadata": {},
   "source": [
    "# Automating Contract Review With Transformer Models"
   ]
  },
  {
   "cell_type": "markdown",
   "metadata": {},
   "source": [
    "##### Task 1: Import the Libraries"
   ]
  },
  {
   "cell_type": "code",
   "execution_count": 1,
   "metadata": {},
   "outputs": [],
   "source": [
    "import os\n",
    "import json \n",
    "import torch\n",
    "import matplotlib.pyplot as plt \n",
    "import numpy as np \n",
    "import pandas as pd \n",
    "from transformers import AutoTokenizer, AutoModelForSequenceClassification, Trainer, TrainingArguments\n",
    "from sklearn.metrics import accuracy_score, precision_score, recall_score, f1_score\n",
    "import statistics"
   ]
  },
  {
   "cell_type": "markdown",
   "metadata": {},
   "source": [
    "##### Task 2: Generate Dataset Files"
   ]
  },
  {
   "cell_type": "code",
   "execution_count": 2,
   "metadata": {},
   "outputs": [],
   "source": [
    "def convert_json_to_csv(json_dir, filename, count):\n",
    "    with open(json_dir, 'r') as f:\n",
    "        data = json.load(f)\n",
    "\n",
    "    # Extract the relevant data and create a DataFrame\n",
    "    text_list, hypothesis_list, labels_list = [], [], []\n",
    "\n",
    "    counter = 0  # Counter variable to track the number of appended elements\n",
    "\n",
    "    for doc in data['documents']:\n",
    "        annotation_sets = doc.get('annotation_sets', [])\n",
    "        for annotation_set in annotation_sets:\n",
    "            annotations = annotation_set.get('annotations', [])\n",
    "            for annotation in annotations:\n",
    "                if counter >= count:\n",
    "                    break  # Break the loop after appending 50 elements\n",
    "\n",
    "                if isinstance(annotations[annotation], dict):\n",
    "                    if 'choice' in annotations[annotation]:\n",
    "                        labels_list.append(annotations[annotation]['choice'])\n",
    "                        text_list.append(doc['text'])\n",
    "                        hypothesis_list.append(data['labels'][annotation]['hypothesis'])\n",
    "                        counter += 1  # Increment the counter\n",
    "\n",
    "    if len(text_list) == len(hypothesis_list) and len(hypothesis_list) == len(labels_list):\n",
    "        df = pd.DataFrame({'text': text_list, 'hypothesis': hypothesis_list, 'labels': labels_list})\n",
    "        # Save the DataFrame to a CSV file\n",
    "        df.to_csv(filename, index=False)"
   ]
  },
  {
   "cell_type": "code",
   "execution_count": 3,
   "metadata": {},
   "outputs": [],
   "source": [
    "# Call convert_json_to_csv() function for training, validation and testing.\n",
    "convert_json_to_csv('/usercode/Contract-nli Dataset/train.json', '/usercode/Contract-nli Dataset/train.csv', 35)\n",
    "convert_json_to_csv('/usercode/Contract-nli Dataset/valid.json', '/usercode/Contract-nli Dataset/valid.csv', 10)\n",
    "convert_json_to_csv('/usercode/Contract-nli Dataset/test.json', '/usercode/Contract-nli Dataset/test.csv', 5)"
   ]
  },
  {
   "cell_type": "markdown",
   "metadata": {},
   "source": [
    "##### Task 3: Calculate Dataset Statistics"
   ]
  },
  {
   "cell_type": "code",
   "execution_count": 4,
   "metadata": {},
   "outputs": [],
   "source": [
    "# 1. Load the dataset\n",
    "train_df = pd.read_csv('/usercode/Contract-nli Dataset/train.csv')\n",
    "valid_df = pd.read_csv('/usercode/Contract-nli Dataset/valid.csv')\n",
    "test_df = pd.read_csv('/usercode/Contract-nli Dataset/test.csv')\n",
    "\n"
   ]
  },
  {
   "cell_type": "code",
   "execution_count": 5,
   "metadata": {},
   "outputs": [
    {
     "data": {
      "text/html": [
       "<div>\n",
       "<style scoped>\n",
       "    .dataframe tbody tr th:only-of-type {\n",
       "        vertical-align: middle;\n",
       "    }\n",
       "\n",
       "    .dataframe tbody tr th {\n",
       "        vertical-align: top;\n",
       "    }\n",
       "\n",
       "    .dataframe thead th {\n",
       "        text-align: right;\n",
       "    }\n",
       "</style>\n",
       "<table border=\"1\" class=\"dataframe\">\n",
       "  <thead>\n",
       "    <tr style=\"text-align: right;\">\n",
       "      <th></th>\n",
       "      <th>text</th>\n",
       "      <th>hypothesis</th>\n",
       "      <th>labels</th>\n",
       "    </tr>\n",
       "  </thead>\n",
       "  <tbody>\n",
       "    <tr>\n",
       "      <th>0</th>\n",
       "      <td>NON-DISCLOSURE AND CONFIDENTIALITY AGREEMENT\\n...</td>\n",
       "      <td>Receiving Party shall not reverse engineer any...</td>\n",
       "      <td>NotMentioned</td>\n",
       "    </tr>\n",
       "    <tr>\n",
       "      <th>1</th>\n",
       "      <td>NON-DISCLOSURE AND CONFIDENTIALITY AGREEMENT\\n...</td>\n",
       "      <td>Receiving Party shall destroy or return some C...</td>\n",
       "      <td>Entailment</td>\n",
       "    </tr>\n",
       "    <tr>\n",
       "      <th>2</th>\n",
       "      <td>NON-DISCLOSURE AND CONFIDENTIALITY AGREEMENT\\n...</td>\n",
       "      <td>Agreement shall not grant Receiving Party any ...</td>\n",
       "      <td>Entailment</td>\n",
       "    </tr>\n",
       "    <tr>\n",
       "      <th>3</th>\n",
       "      <td>NON-DISCLOSURE AND CONFIDENTIALITY AGREEMENT\\n...</td>\n",
       "      <td>Receiving Party shall not disclose the fact th...</td>\n",
       "      <td>Entailment</td>\n",
       "    </tr>\n",
       "    <tr>\n",
       "      <th>4</th>\n",
       "      <td>NON-DISCLOSURE AND CONFIDENTIALITY AGREEMENT\\n...</td>\n",
       "      <td>Confidential Information shall only include te...</td>\n",
       "      <td>NotMentioned</td>\n",
       "    </tr>\n",
       "  </tbody>\n",
       "</table>\n",
       "</div>"
      ],
      "text/plain": [
       "                                                text  \\\n",
       "0  NON-DISCLOSURE AND CONFIDENTIALITY AGREEMENT\\n...   \n",
       "1  NON-DISCLOSURE AND CONFIDENTIALITY AGREEMENT\\n...   \n",
       "2  NON-DISCLOSURE AND CONFIDENTIALITY AGREEMENT\\n...   \n",
       "3  NON-DISCLOSURE AND CONFIDENTIALITY AGREEMENT\\n...   \n",
       "4  NON-DISCLOSURE AND CONFIDENTIALITY AGREEMENT\\n...   \n",
       "\n",
       "                                          hypothesis        labels  \n",
       "0  Receiving Party shall not reverse engineer any...  NotMentioned  \n",
       "1  Receiving Party shall destroy or return some C...    Entailment  \n",
       "2  Agreement shall not grant Receiving Party any ...    Entailment  \n",
       "3  Receiving Party shall not disclose the fact th...    Entailment  \n",
       "4  Confidential Information shall only include te...  NotMentioned  "
      ]
     },
     "metadata": {},
     "output_type": "display_data"
    },
    {
     "data": {
      "text/html": [
       "<div>\n",
       "<style scoped>\n",
       "    .dataframe tbody tr th:only-of-type {\n",
       "        vertical-align: middle;\n",
       "    }\n",
       "\n",
       "    .dataframe tbody tr th {\n",
       "        vertical-align: top;\n",
       "    }\n",
       "\n",
       "    .dataframe thead th {\n",
       "        text-align: right;\n",
       "    }\n",
       "</style>\n",
       "<table border=\"1\" class=\"dataframe\">\n",
       "  <thead>\n",
       "    <tr style=\"text-align: right;\">\n",
       "      <th></th>\n",
       "      <th>text</th>\n",
       "      <th>hypothesis</th>\n",
       "      <th>labels</th>\n",
       "    </tr>\n",
       "  </thead>\n",
       "  <tbody>\n",
       "    <tr>\n",
       "      <th>30</th>\n",
       "      <td>NON-DISCLOSURE AGREEMENT AND TERMS OF PARTICIP...</td>\n",
       "      <td>Receiving Party shall notify Disclosing Party ...</td>\n",
       "      <td>Entailment</td>\n",
       "    </tr>\n",
       "    <tr>\n",
       "      <th>31</th>\n",
       "      <td>NON-DISCLOSURE AGREEMENT AND TERMS OF PARTICIP...</td>\n",
       "      <td>Receiving Party may acquire information simila...</td>\n",
       "      <td>Entailment</td>\n",
       "    </tr>\n",
       "    <tr>\n",
       "      <th>32</th>\n",
       "      <td>NON-DISCLOSURE AGREEMENT AND TERMS OF PARTICIP...</td>\n",
       "      <td>Receiving Party may share some Confidential In...</td>\n",
       "      <td>Contradiction</td>\n",
       "    </tr>\n",
       "    <tr>\n",
       "      <th>33</th>\n",
       "      <td>NON-DISCLOSURE AGREEMENT AND TERMS OF PARTICIP...</td>\n",
       "      <td>Receiving Party shall not use any Confidential...</td>\n",
       "      <td>Entailment</td>\n",
       "    </tr>\n",
       "    <tr>\n",
       "      <th>34</th>\n",
       "      <td>Mutual Non-Disclosure and Use of Information A...</td>\n",
       "      <td>Receiving Party shall not reverse engineer any...</td>\n",
       "      <td>NotMentioned</td>\n",
       "    </tr>\n",
       "  </tbody>\n",
       "</table>\n",
       "</div>"
      ],
      "text/plain": [
       "                                                 text  \\\n",
       "30  NON-DISCLOSURE AGREEMENT AND TERMS OF PARTICIP...   \n",
       "31  NON-DISCLOSURE AGREEMENT AND TERMS OF PARTICIP...   \n",
       "32  NON-DISCLOSURE AGREEMENT AND TERMS OF PARTICIP...   \n",
       "33  NON-DISCLOSURE AGREEMENT AND TERMS OF PARTICIP...   \n",
       "34  Mutual Non-Disclosure and Use of Information A...   \n",
       "\n",
       "                                           hypothesis         labels  \n",
       "30  Receiving Party shall notify Disclosing Party ...     Entailment  \n",
       "31  Receiving Party may acquire information simila...     Entailment  \n",
       "32  Receiving Party may share some Confidential In...  Contradiction  \n",
       "33  Receiving Party shall not use any Confidential...     Entailment  \n",
       "34  Receiving Party shall not reverse engineer any...   NotMentioned  "
      ]
     },
     "metadata": {},
     "output_type": "display_data"
    }
   ],
   "source": [
    "# 2. Display the first and last 5 rows of the training dataset\n",
    "display(train_df.head(5))\n",
    "display(train_df.tail(5))\n"
   ]
  },
  {
   "cell_type": "code",
   "execution_count": 6,
   "metadata": {},
   "outputs": [
    {
     "data": {
      "text/plain": [
       "(35, 3)"
      ]
     },
     "execution_count": 6,
     "metadata": {},
     "output_type": "execute_result"
    }
   ],
   "source": [
    "# 3. Display the dimension of the training data\n",
    "train_df.shape"
   ]
  },
  {
   "cell_type": "code",
   "execution_count": 7,
   "metadata": {},
   "outputs": [
    {
     "name": "stdout",
     "output_type": "stream",
     "text": [
      "<class 'pandas.core.frame.DataFrame'>\n",
      "RangeIndex: 35 entries, 0 to 34\n",
      "Data columns (total 3 columns):\n",
      " #   Column      Non-Null Count  Dtype \n",
      "---  ------      --------------  ----- \n",
      " 0   text        35 non-null     object\n",
      " 1   hypothesis  35 non-null     object\n",
      " 2   labels      35 non-null     object\n",
      "dtypes: object(3)\n",
      "memory usage: 968.0+ bytes\n"
     ]
    }
   ],
   "source": [
    "# 4. Display a summary of the training DataFrame\n",
    "train_df.info()"
   ]
  },
  {
   "cell_type": "code",
   "execution_count": 8,
   "metadata": {},
   "outputs": [
    {
     "data": {
      "text/html": [
       "<div>\n",
       "<style scoped>\n",
       "    .dataframe tbody tr th:only-of-type {\n",
       "        vertical-align: middle;\n",
       "    }\n",
       "\n",
       "    .dataframe tbody tr th {\n",
       "        vertical-align: top;\n",
       "    }\n",
       "\n",
       "    .dataframe thead th {\n",
       "        text-align: right;\n",
       "    }\n",
       "</style>\n",
       "<table border=\"1\" class=\"dataframe\">\n",
       "  <thead>\n",
       "    <tr style=\"text-align: right;\">\n",
       "      <th></th>\n",
       "      <th>text</th>\n",
       "      <th>hypothesis</th>\n",
       "      <th>labels</th>\n",
       "    </tr>\n",
       "  </thead>\n",
       "  <tbody>\n",
       "    <tr>\n",
       "      <th>count</th>\n",
       "      <td>35</td>\n",
       "      <td>35</td>\n",
       "      <td>35</td>\n",
       "    </tr>\n",
       "    <tr>\n",
       "      <th>unique</th>\n",
       "      <td>3</td>\n",
       "      <td>17</td>\n",
       "      <td>3</td>\n",
       "    </tr>\n",
       "    <tr>\n",
       "      <th>top</th>\n",
       "      <td>NON-DISCLOSURE AND CONFIDENTIALITY AGREEMENT\\n...</td>\n",
       "      <td>Receiving Party shall not reverse engineer any...</td>\n",
       "      <td>Entailment</td>\n",
       "    </tr>\n",
       "    <tr>\n",
       "      <th>freq</th>\n",
       "      <td>17</td>\n",
       "      <td>3</td>\n",
       "      <td>18</td>\n",
       "    </tr>\n",
       "  </tbody>\n",
       "</table>\n",
       "</div>"
      ],
      "text/plain": [
       "                                                     text  \\\n",
       "count                                                  35   \n",
       "unique                                                  3   \n",
       "top     NON-DISCLOSURE AND CONFIDENTIALITY AGREEMENT\\n...   \n",
       "freq                                                   17   \n",
       "\n",
       "                                               hypothesis      labels  \n",
       "count                                                  35          35  \n",
       "unique                                                 17           3  \n",
       "top     Receiving Party shall not reverse engineer any...  Entailment  \n",
       "freq                                                    3          18  "
      ]
     },
     "metadata": {},
     "output_type": "display_data"
    },
    {
     "data": {
      "text/html": [
       "<div>\n",
       "<style scoped>\n",
       "    .dataframe tbody tr th:only-of-type {\n",
       "        vertical-align: middle;\n",
       "    }\n",
       "\n",
       "    .dataframe tbody tr th {\n",
       "        vertical-align: top;\n",
       "    }\n",
       "\n",
       "    .dataframe thead th {\n",
       "        text-align: right;\n",
       "    }\n",
       "</style>\n",
       "<table border=\"1\" class=\"dataframe\">\n",
       "  <thead>\n",
       "    <tr style=\"text-align: right;\">\n",
       "      <th></th>\n",
       "      <th>text</th>\n",
       "      <th>hypothesis</th>\n",
       "      <th>labels</th>\n",
       "    </tr>\n",
       "  </thead>\n",
       "  <tbody>\n",
       "    <tr>\n",
       "      <th>count</th>\n",
       "      <td>10</td>\n",
       "      <td>10</td>\n",
       "      <td>10</td>\n",
       "    </tr>\n",
       "    <tr>\n",
       "      <th>unique</th>\n",
       "      <td>1</td>\n",
       "      <td>10</td>\n",
       "      <td>2</td>\n",
       "    </tr>\n",
       "    <tr>\n",
       "      <th>top</th>\n",
       "      <td>OISAIR PROJECT\\nTWO-WAY CONFIDENTIALITY AND NO...</td>\n",
       "      <td>Receiving Party shall not reverse engineer any...</td>\n",
       "      <td>Entailment</td>\n",
       "    </tr>\n",
       "    <tr>\n",
       "      <th>freq</th>\n",
       "      <td>10</td>\n",
       "      <td>1</td>\n",
       "      <td>9</td>\n",
       "    </tr>\n",
       "  </tbody>\n",
       "</table>\n",
       "</div>"
      ],
      "text/plain": [
       "                                                     text  \\\n",
       "count                                                  10   \n",
       "unique                                                  1   \n",
       "top     OISAIR PROJECT\\nTWO-WAY CONFIDENTIALITY AND NO...   \n",
       "freq                                                   10   \n",
       "\n",
       "                                               hypothesis      labels  \n",
       "count                                                  10          10  \n",
       "unique                                                 10           2  \n",
       "top     Receiving Party shall not reverse engineer any...  Entailment  \n",
       "freq                                                    1           9  "
      ]
     },
     "metadata": {},
     "output_type": "display_data"
    },
    {
     "data": {
      "text/html": [
       "<div>\n",
       "<style scoped>\n",
       "    .dataframe tbody tr th:only-of-type {\n",
       "        vertical-align: middle;\n",
       "    }\n",
       "\n",
       "    .dataframe tbody tr th {\n",
       "        vertical-align: top;\n",
       "    }\n",
       "\n",
       "    .dataframe thead th {\n",
       "        text-align: right;\n",
       "    }\n",
       "</style>\n",
       "<table border=\"1\" class=\"dataframe\">\n",
       "  <thead>\n",
       "    <tr style=\"text-align: right;\">\n",
       "      <th></th>\n",
       "      <th>text</th>\n",
       "      <th>hypothesis</th>\n",
       "      <th>labels</th>\n",
       "    </tr>\n",
       "  </thead>\n",
       "  <tbody>\n",
       "    <tr>\n",
       "      <th>count</th>\n",
       "      <td>5</td>\n",
       "      <td>5</td>\n",
       "      <td>5</td>\n",
       "    </tr>\n",
       "    <tr>\n",
       "      <th>unique</th>\n",
       "      <td>1</td>\n",
       "      <td>5</td>\n",
       "      <td>3</td>\n",
       "    </tr>\n",
       "    <tr>\n",
       "      <th>top</th>\n",
       "      <td>NON-DISCLOSURE AGREEMENT\\nRequired under JEA's...</td>\n",
       "      <td>Receiving Party shall not reverse engineer any...</td>\n",
       "      <td>NotMentioned</td>\n",
       "    </tr>\n",
       "    <tr>\n",
       "      <th>freq</th>\n",
       "      <td>5</td>\n",
       "      <td>1</td>\n",
       "      <td>2</td>\n",
       "    </tr>\n",
       "  </tbody>\n",
       "</table>\n",
       "</div>"
      ],
      "text/plain": [
       "                                                     text  \\\n",
       "count                                                   5   \n",
       "unique                                                  1   \n",
       "top     NON-DISCLOSURE AGREEMENT\\nRequired under JEA's...   \n",
       "freq                                                    5   \n",
       "\n",
       "                                               hypothesis        labels  \n",
       "count                                                   5             5  \n",
       "unique                                                  5             3  \n",
       "top     Receiving Party shall not reverse engineer any...  NotMentioned  \n",
       "freq                                                    1             2  "
      ]
     },
     "metadata": {},
     "output_type": "display_data"
    }
   ],
   "source": [
    "# 5. Print the statistical summary of the training, validation, and testing DataFrames\n",
    "display(train_df.describe())\n",
    "display(valid_df.describe())\n",
    "display(test_df.describe())"
   ]
  },
  {
   "cell_type": "markdown",
   "metadata": {},
   "source": [
    "##### Task 4: Create Visualization Function for Features"
   ]
  },
  {
   "cell_type": "code",
   "execution_count": 9,
   "metadata": {},
   "outputs": [],
   "source": [
    "# Write visualize_features() function\n",
    "def visualize_features(dataset, datatype, col_name, target):\n",
    "    doc_lengths = [len(i) for i in dataset[col_name].values]\n",
    "    print('Maximum:', max(doc_lengths))\n",
    "    print('Mean:', statistics.mean(doc_lengths))\n",
    "    print('Median:', statistics.median(doc_lengths))\n",
    "    plt.hist(doc_lengths, bins = 50)\n",
    "    plt.title(f\"Distribution of {target} Lengths for {datatype}\")\n",
    "    plt.xlabel(f\"{target} Length (characters)\")\n",
    "    plt.ylabel(\"Count\")\n",
    "    plt.show()\n",
    "    "
   ]
  },
  {
   "cell_type": "code",
   "execution_count": 10,
   "metadata": {},
   "outputs": [
    {
     "name": "stdout",
     "output_type": "stream",
     "text": [
      "Maximum: 162\n",
      "Mean: 97.6\n",
      "Median: 90\n"
     ]
    },
    {
     "data": {
      "image/png": "[encoded data removed]",
      "text/plain": [
       "<Figure size 640x480 with 1 Axes>"
      ]
     },
     "metadata": {},
     "output_type": "display_data"
    },
    {
     "name": "stdout",
     "output_type": "stream",
     "text": [
      "Maximum: 122\n",
      "Mean: 87.5\n",
      "Median: 83.5\n"
     ]
    },
    {
     "data": {
      "image/png": "[encoded data removed]",
      "text/plain": [
       "<Figure size 640x480 with 1 Axes>"
      ]
     },
     "metadata": {},
     "output_type": "display_data"
    },
    {
     "name": "stdout",
     "output_type": "stream",
     "text": [
      "Maximum: 112\n",
      "Mean: 89.2\n",
      "Median: 84\n"
     ]
    },
    {
     "data": {
      "image/png": "[encoded data removed]",
      "text/plain": [
       "<Figure size 640x480 with 1 Axes>"
      ]
     },
     "metadata": {},
     "output_type": "display_data"
    }
   ],
   "source": [
    "# Call visualize_features() function for training, validation and testing\n",
    "visualize_features(train_df, 'train', 'hypothesis', 'labels')\n",
    "visualize_features(valid_df, 'valid', 'hypothesis', 'labels')\n",
    "visualize_features(test_df, 'test', 'hypothesis', 'labels')"
   ]
  },
  {
   "cell_type": "markdown",
   "metadata": {},
   "source": [
    "##### Task 5: Create Visualizations Function for Labels"
   ]
  },
  {
   "cell_type": "code",
   "execution_count": 11,
   "metadata": {},
   "outputs": [],
   "source": [
    "# Write visualize_label() function\n",
    "def visualize_label(dataset, datatype):\n",
    "    label_counts = dataset['labels'].value_counts()\n",
    "    print('label_counts:', label_counts)\n",
    "    plt.bar(label_counts.index, label_counts.values)\n",
    "    plt.show()\n",
    "    \n"
   ]
  },
  {
   "cell_type": "code",
   "execution_count": 12,
   "metadata": {},
   "outputs": [
    {
     "name": "stdout",
     "output_type": "stream",
     "text": [
      "label_counts: labels\n",
      "Entailment       18\n",
      "NotMentioned     13\n",
      "Contradiction     4\n",
      "Name: count, dtype: int64\n"
     ]
    },
    {
     "data": {
      "image/png": "[encoded data removed]",
      "text/plain": [
       "<Figure size 640x480 with 1 Axes>"
      ]
     },
     "metadata": {},
     "output_type": "display_data"
    },
    {
     "name": "stdout",
     "output_type": "stream",
     "text": [
      "label_counts: labels\n",
      "Entailment       9\n",
      "Contradiction    1\n",
      "Name: count, dtype: int64\n"
     ]
    },
    {
     "data": {
      "image/png": "[encoded data removed]",
      "text/plain": [
       "<Figure size 640x480 with 1 Axes>"
      ]
     },
     "metadata": {},
     "output_type": "display_data"
    },
    {
     "name": "stdout",
     "output_type": "stream",
     "text": [
      "label_counts: labels\n",
      "Entailment       9\n",
      "Contradiction    1\n",
      "Name: count, dtype: int64\n"
     ]
    },
    {
     "data": {
      "image/png": "[encoded data removed]",
      "text/plain": [
       "<Figure size 640x480 with 1 Axes>"
      ]
     },
     "metadata": {},
     "output_type": "display_data"
    }
   ],
   "source": [
    "# Call visualize_label() function for training, validation and testing.\n",
    "visualize_label(train_df, 'train')\n",
    "visualize_label(valid_df, 'valid')\n",
    "visualize_label(valid_df, 'test')\n"
   ]
  },
  {
   "cell_type": "markdown",
   "metadata": {},
   "source": [
    "##### Task 6: Load the Tokenizer and Model"
   ]
  },
  {
   "cell_type": "code",
   "execution_count": 13,
   "metadata": {},
   "outputs": [
    {
     "data": {
      "application/vnd.jupyter.widget-view+json": {
       "model_id": "dc816eaf79a249e29547f6d4c7601165",
       "version_major": 2,
       "version_minor": 0
      },
      "text/plain": [
       "tokenizer_config.json:   0%|          | 0.00/25.0 [00:00<?, ?B/s]"
      ]
     },
     "metadata": {},
     "output_type": "display_data"
    },
    {
     "data": {
      "application/vnd.jupyter.widget-view+json": {
       "model_id": "f02fecae62ad47799bdc2d9fa412bbe0",
       "version_major": 2,
       "version_minor": 0
      },
      "text/plain": [
       "config.json:   0%|          | 0.00/684 [00:00<?, ?B/s]"
      ]
     },
     "metadata": {},
     "output_type": "display_data"
    },
    {
     "data": {
      "application/vnd.jupyter.widget-view+json": {
       "model_id": "bcf4bc44c4904114a693c95e0b24f093",
       "version_major": 2,
       "version_minor": 0
      },
      "text/plain": [
       "spiece.model:   0%|          | 0.00/760k [00:00<?, ?B/s]"
      ]
     },
     "metadata": {},
     "output_type": "display_data"
    },
    {
     "data": {
      "application/vnd.jupyter.widget-view+json": {
       "model_id": "a1b8591a15ff4665b65c64fff51fb6c9",
       "version_major": 2,
       "version_minor": 0
      },
      "text/plain": [
       "tokenizer.json:   0%|          | 0.00/1.31M [00:00<?, ?B/s]"
      ]
     },
     "metadata": {},
     "output_type": "display_data"
    },
    {
     "data": {
      "application/vnd.jupyter.widget-view+json": {
       "model_id": "15bbdfb995f24c1c949555930d2f7509",
       "version_major": 2,
       "version_minor": 0
      },
      "text/plain": [
       "model.safetensors:   0%|          | 0.00/47.4M [00:00<?, ?B/s]"
      ]
     },
     "metadata": {},
     "output_type": "display_data"
    },
    {
     "name": "stderr",
     "output_type": "stream",
     "text": [
      "Some weights of AlbertForSequenceClassification were not initialized from the model checkpoint at albert-base-v2 and are newly initialized: ['classifier.bias', 'classifier.weight']\n",
      "You should probably TRAIN this model on a down-stream task to be able to use it for predictions and inference.\n"
     ]
    }
   ],
   "source": [
    "# ALBERT tokenizer and model\n",
    "albert_model_name = 'albert-base-v2'\n",
    "albert_tokenizer = AutoTokenizer.from_pretrained(albert_model_name)\n",
    "albert_classifier_model = AutoModelForSequenceClassification.from_pretrained(albert_model_name, num_labels=3)"
   ]
  },
  {
   "cell_type": "code",
   "execution_count": 14,
   "metadata": {},
   "outputs": [
    {
     "data": {
      "application/vnd.jupyter.widget-view+json": {
       "model_id": "9a788564588d41bda0757e0110c40d91",
       "version_major": 2,
       "version_minor": 0
      },
      "text/plain": [
       "tokenizer_config.json:   0%|          | 0.00/48.0 [00:00<?, ?B/s]"
      ]
     },
     "metadata": {},
     "output_type": "display_data"
    },
    {
     "data": {
      "application/vnd.jupyter.widget-view+json": {
       "model_id": "7cb5ab9a8fde4e979863b273fa75cfce",
       "version_major": 2,
       "version_minor": 0
      },
      "text/plain": [
       "config.json:   0%|          | 0.00/483 [00:00<?, ?B/s]"
      ]
     },
     "metadata": {},
     "output_type": "display_data"
    },
    {
     "data": {
      "application/vnd.jupyter.widget-view+json": {
       "model_id": "28ecc6b4a3104f0b81b604d99024e408",
       "version_major": 2,
       "version_minor": 0
      },
      "text/plain": [
       "vocab.txt:   0%|          | 0.00/232k [00:00<?, ?B/s]"
      ]
     },
     "metadata": {},
     "output_type": "display_data"
    },
    {
     "data": {
      "application/vnd.jupyter.widget-view+json": {
       "model_id": "f27a75aa66314ab3af8883ae10db6076",
       "version_major": 2,
       "version_minor": 0
      },
      "text/plain": [
       "tokenizer.json:   0%|          | 0.00/466k [00:00<?, ?B/s]"
      ]
     },
     "metadata": {},
     "output_type": "display_data"
    },
    {
     "data": {
      "application/vnd.jupyter.widget-view+json": {
       "model_id": "54bac462ec5b42f2b985359d45ba138e",
       "version_major": 2,
       "version_minor": 0
      },
      "text/plain": [
       "model.safetensors:   0%|          | 0.00/268M [00:00<?, ?B/s]"
      ]
     },
     "metadata": {},
     "output_type": "display_data"
    },
    {
     "name": "stderr",
     "output_type": "stream",
     "text": [
      "Some weights of DistilBertForSequenceClassification were not initialized from the model checkpoint at distilbert-base-uncased and are newly initialized: ['pre_classifier.weight', 'classifier.bias', 'pre_classifier.bias', 'classifier.weight']\n",
      "You should probably TRAIN this model on a down-stream task to be able to use it for predictions and inference.\n"
     ]
    }
   ],
   "source": [
    "# DistilBERT tokenizer and model\n",
    "distilbert_model_name = 'distilbert-base-uncased'\n",
    "distilbert_tokenizer = AutoTokenizer.from_pretrained(distilbert_model_name)\n",
    "distilbert_classifier_model = AutoModelForSequenceClassification.from_pretrained(distilbert_model_name, num_labels=3)"
   ]
  },
  {
   "cell_type": "markdown",
   "metadata": {},
   "source": [
    "##### Task 7: Encode the Features"
   ]
  },
  {
   "cell_type": "code",
   "execution_count": 15,
   "metadata": {},
   "outputs": [],
   "source": [
    "# Write tokenize_data() function\n",
    "def tokenize_data(dataset, model_name):\n",
    "    if model_name == 'albert':\n",
    "        return albert_tokenizer(text=dataset['text'].tolist(), text_pair=dataset['hypothesis'].tolist(), padding='max_length', max_length=256, truncation=True)\n",
    "    else:\n",
    "        return distilbert_tokenizer(text=dataset['text'].tolist(), text_pair=dataset['hypothesis'].tolist(), padding='max_length', max_length=256, truncation=True)    \n",
    "\n"
   ]
  },
  {
   "cell_type": "code",
   "execution_count": 16,
   "metadata": {},
   "outputs": [],
   "source": [
    "# Call tokenize_data() function for training, validation and testing.\n",
    "## ALBERT model\n",
    "albert_train_encodings = tokenize_data(train_df, 'albert')\n",
    "albert_valid_encodings = tokenize_data(valid_df, 'albert')\n",
    "albert_test_encodings = tokenize_data(test_df, 'albert')\n",
    "## DistilBERT model\n",
    "distilbert_train_encodings = tokenize_data(train_df, 'distilbert')\n",
    "distilbert_valid_encodings = tokenize_data(valid_df, 'distilbert')\n",
    "distilbert_test_encodings = tokenize_data(test_df, 'distilbert')"
   ]
  },
  {
   "cell_type": "markdown",
   "metadata": {},
   "source": [
    "##### Task 8: Encode the Label"
   ]
  },
  {
   "cell_type": "code",
   "execution_count": 17,
   "metadata": {},
   "outputs": [],
   "source": [
    "label_mapping = {'NotMentioned':0, 'Entailment':1, 'Contradiction':2}\n",
    "train_labels, valid_labels, test_labels = [], [], []\n",
    "for label in train_df['labels'].to_list():\n",
    "    train_labels.append(label_mapping[label])\n",
    "for label in valid_df['labels'].to_list():\n",
    "    valid_labels.append(label_mapping[label])\n",
    "for label in test_df['labels'].to_list():\n",
    "    test_labels.append(label_mapping[label])\n"
   ]
  },
  {
   "cell_type": "markdown",
   "metadata": {},
   "source": [
    "##### Task 9: Prepare Dataset for the Model"
   ]
  },
  {
   "cell_type": "code",
   "execution_count": 18,
   "metadata": {},
   "outputs": [],
   "source": [
    "# Write ContractNLIDataset() class.\n",
    "class  ContractNLIDataset():\n",
    "    def __init__(self, encodings, labels):\n",
    "        self.encodings = encodings\n",
    "        self.labels = labels\n",
    "    \n",
    "    def __getitem__(self, idx):\n",
    "        item = {}\n",
    "        for key, value in self.encodings.items():\n",
    "            item[key] = torch.tensor(value[idx])\n",
    "        item['labels'] = torch.tensor(int(self.labels[idx]))\n",
    "        return item\n",
    "            \n",
    "    \n",
    "    def __len__(self):\n",
    "        return len(self.labels)"
   ]
  },
  {
   "cell_type": "code",
   "execution_count": 19,
   "metadata": {},
   "outputs": [],
   "source": [
    "# Create the objects from ContractNLIDataset() class for training, validation and testing.\n",
    "## ALBERT model\n",
    "albert_train_dataset =  ContractNLIDataset(albert_train_encodings, train_labels)\n",
    "albert_valid_dataset =  ContractNLIDataset(albert_valid_encodings, valid_labels)\n",
    "albert_test_dataset =  ContractNLIDataset(albert_test_encodings, test_labels)\n",
    "## DistilBERT model\n",
    "distilbert_train_dataset =  ContractNLIDataset(distilbert_train_encodings, train_labels)\n",
    "distilbert_valid_dataset =  ContractNLIDataset(distilbert_valid_encodings, valid_labels)\n",
    "distilbert_test_dataset =  ContractNLIDataset(distilbert_test_encodings, test_labels)"
   ]
  },
  {
   "cell_type": "markdown",
   "metadata": {},
   "source": [
    "##### Task 10: Fine-Tune the Selected Models"
   ]
  },
  {
   "cell_type": "code",
   "execution_count": 20,
   "metadata": {},
   "outputs": [],
   "source": [
    "# Write compute_metrics() function. \n",
    "def compute_metrics(p):\n",
    "    preds = np.argmax(p.predictions, axis = 1)\n",
    "    labels = p.label_ids\n",
    "    accuracy = accuracy_score(labels, preds)\n",
    "    precision = precision_score(labels, preds, average='macro')\n",
    "    recall = precision_score(labels, preds, average='macro')\n",
    "    f1 = f1_score(labels, preds, average='macro')\n",
    "    return {\"accuracy\": accuracy, \"precision\": precision, \"recall\": recall, \"f1\": f1}"
   ]
  },
  {
   "cell_type": "code",
   "execution_count": 47,
   "metadata": {},
   "outputs": [],
   "source": [
    "# configure the training setting\n",
    "training_args  = TrainingArguments(output_dir='/usercode/results', num_train_epochs=5, weight_decay=0.01, logging_steps=1, evaluation_strategy='epoch')\n",
    "\n"
   ]
  },
  {
   "cell_type": "code",
   "execution_count": 48,
   "metadata": {},
   "outputs": [],
   "source": [
    "# Write train_fn() function\n",
    "def train_fn(model, train_dataset, eval_dataset, tokenizer):\n",
    "    trainer = Trainer(model=model, args=training_args, train_dataset=train_dataset, eval_dataset=eval_dataset, tokenizer=tokenizer, compute_metrics= compute_metrics,)\n",
    "    trainer.train()\n",
    "    return trainer\n",
    "\n"
   ]
  },
  {
   "cell_type": "code",
   "execution_count": 49,
   "metadata": {},
   "outputs": [
    {
     "data": {
      "text/html": [
       "\n",
       "    <div>\n",
       "      \n",
       "      <progress value='25' max='25' style='width:300px; height:20px; vertical-align: middle;'></progress>\n",
       "      [25/25 06:43, Epoch 5/5]\n",
       "    </div>\n",
       "    <table border=\"1\" class=\"dataframe\">\n",
       "  <thead>\n",
       " <tr style=\"text-align: left;\">\n",
       "      <th>Epoch</th>\n",
       "      <th>Training Loss</th>\n",
       "      <th>Validation Loss</th>\n",
       "      <th>Accuracy</th>\n",
       "      <th>Precision</th>\n",
       "      <th>Recall</th>\n",
       "      <th>F1</th>\n",
       "    </tr>\n",
       "  </thead>\n",
       "  <tbody>\n",
       "    <tr>\n",
       "      <td>1</td>\n",
       "      <td>0.877300</td>\n",
       "      <td>1.027673</td>\n",
       "      <td>0.200000</td>\n",
       "      <td>0.333333</td>\n",
       "      <td>0.333333</td>\n",
       "      <td>0.121212</td>\n",
       "    </tr>\n",
       "    <tr>\n",
       "      <td>2</td>\n",
       "      <td>0.814500</td>\n",
       "      <td>1.229283</td>\n",
       "      <td>0.000000</td>\n",
       "      <td>0.000000</td>\n",
       "      <td>0.000000</td>\n",
       "      <td>0.000000</td>\n",
       "    </tr>\n",
       "    <tr>\n",
       "      <td>3</td>\n",
       "      <td>0.922700</td>\n",
       "      <td>1.149028</td>\n",
       "      <td>0.000000</td>\n",
       "      <td>0.000000</td>\n",
       "      <td>0.000000</td>\n",
       "      <td>0.000000</td>\n",
       "    </tr>\n",
       "    <tr>\n",
       "      <td>4</td>\n",
       "      <td>0.990300</td>\n",
       "      <td>1.116729</td>\n",
       "      <td>0.000000</td>\n",
       "      <td>0.000000</td>\n",
       "      <td>0.000000</td>\n",
       "      <td>0.000000</td>\n",
       "    </tr>\n",
       "    <tr>\n",
       "      <td>5</td>\n",
       "      <td>1.209800</td>\n",
       "      <td>1.097945</td>\n",
       "      <td>0.000000</td>\n",
       "      <td>0.000000</td>\n",
       "      <td>0.000000</td>\n",
       "      <td>0.000000</td>\n",
       "    </tr>\n",
       "  </tbody>\n",
       "</table><p>"
      ],
      "text/plain": [
       "<IPython.core.display.HTML object>"
      ]
     },
     "metadata": {},
     "output_type": "display_data"
    },
    {
     "name": "stderr",
     "output_type": "stream",
     "text": [
      "/usr/local/lib/python3.8/dist-packages/sklearn/metrics/_classification.py:1471: UndefinedMetricWarning: Precision is ill-defined and being set to 0.0 in labels with no predicted samples. Use `zero_division` parameter to control this behavior.\n",
      "  _warn_prf(average, modifier, msg_start, len(result))\n",
      "/usr/local/lib/python3.8/dist-packages/sklearn/metrics/_classification.py:1471: UndefinedMetricWarning: Precision is ill-defined and being set to 0.0 in labels with no predicted samples. Use `zero_division` parameter to control this behavior.\n",
      "  _warn_prf(average, modifier, msg_start, len(result))\n",
      "/usr/local/lib/python3.8/dist-packages/sklearn/metrics/_classification.py:1471: UndefinedMetricWarning: Precision is ill-defined and being set to 0.0 in labels with no predicted samples. Use `zero_division` parameter to control this behavior.\n",
      "  _warn_prf(average, modifier, msg_start, len(result))\n",
      "/usr/local/lib/python3.8/dist-packages/sklearn/metrics/_classification.py:1471: UndefinedMetricWarning: Precision is ill-defined and being set to 0.0 in labels with no predicted samples. Use `zero_division` parameter to control this behavior.\n",
      "  _warn_prf(average, modifier, msg_start, len(result))\n",
      "/usr/local/lib/python3.8/dist-packages/sklearn/metrics/_classification.py:1471: UndefinedMetricWarning: Precision is ill-defined and being set to 0.0 in labels with no predicted samples. Use `zero_division` parameter to control this behavior.\n",
      "  _warn_prf(average, modifier, msg_start, len(result))\n",
      "/usr/local/lib/python3.8/dist-packages/sklearn/metrics/_classification.py:1471: UndefinedMetricWarning: Precision is ill-defined and being set to 0.0 in labels with no predicted samples. Use `zero_division` parameter to control this behavior.\n",
      "  _warn_prf(average, modifier, msg_start, len(result))\n",
      "/usr/local/lib/python3.8/dist-packages/sklearn/metrics/_classification.py:1471: UndefinedMetricWarning: Precision is ill-defined and being set to 0.0 in labels with no predicted samples. Use `zero_division` parameter to control this behavior.\n",
      "  _warn_prf(average, modifier, msg_start, len(result))\n",
      "/usr/local/lib/python3.8/dist-packages/sklearn/metrics/_classification.py:1471: UndefinedMetricWarning: Precision is ill-defined and being set to 0.0 in labels with no predicted samples. Use `zero_division` parameter to control this behavior.\n",
      "  _warn_prf(average, modifier, msg_start, len(result))\n",
      "/usr/local/lib/python3.8/dist-packages/sklearn/metrics/_classification.py:1471: UndefinedMetricWarning: Precision is ill-defined and being set to 0.0 in labels with no predicted samples. Use `zero_division` parameter to control this behavior.\n",
      "  _warn_prf(average, modifier, msg_start, len(result))\n",
      "/usr/local/lib/python3.8/dist-packages/sklearn/metrics/_classification.py:1471: UndefinedMetricWarning: Precision is ill-defined and being set to 0.0 in labels with no predicted samples. Use `zero_division` parameter to control this behavior.\n",
      "  _warn_prf(average, modifier, msg_start, len(result))\n"
     ]
    },
    {
     "data": {
      "text/html": [
       "\n",
       "    <div>\n",
       "      \n",
       "      <progress value='25' max='25' style='width:300px; height:20px; vertical-align: middle;'></progress>\n",
       "      [25/25 03:21, Epoch 5/5]\n",
       "    </div>\n",
       "    <table border=\"1\" class=\"dataframe\">\n",
       "  <thead>\n",
       " <tr style=\"text-align: left;\">\n",
       "      <th>Epoch</th>\n",
       "      <th>Training Loss</th>\n",
       "      <th>Validation Loss</th>\n",
       "      <th>Accuracy</th>\n",
       "      <th>Precision</th>\n",
       "      <th>Recall</th>\n",
       "      <th>F1</th>\n",
       "    </tr>\n",
       "  </thead>\n",
       "  <tbody>\n",
       "    <tr>\n",
       "      <td>1</td>\n",
       "      <td>0.754700</td>\n",
       "      <td>0.878124</td>\n",
       "      <td>0.900000</td>\n",
       "      <td>0.450000</td>\n",
       "      <td>0.450000</td>\n",
       "      <td>0.473684</td>\n",
       "    </tr>\n",
       "    <tr>\n",
       "      <td>2</td>\n",
       "      <td>0.872600</td>\n",
       "      <td>0.812076</td>\n",
       "      <td>0.900000</td>\n",
       "      <td>0.450000</td>\n",
       "      <td>0.450000</td>\n",
       "      <td>0.473684</td>\n",
       "    </tr>\n",
       "    <tr>\n",
       "      <td>3</td>\n",
       "      <td>0.872400</td>\n",
       "      <td>0.780005</td>\n",
       "      <td>0.900000</td>\n",
       "      <td>0.450000</td>\n",
       "      <td>0.450000</td>\n",
       "      <td>0.473684</td>\n",
       "    </tr>\n",
       "    <tr>\n",
       "      <td>4</td>\n",
       "      <td>1.044600</td>\n",
       "      <td>0.799551</td>\n",
       "      <td>0.900000</td>\n",
       "      <td>0.450000</td>\n",
       "      <td>0.450000</td>\n",
       "      <td>0.473684</td>\n",
       "    </tr>\n",
       "    <tr>\n",
       "      <td>5</td>\n",
       "      <td>1.246200</td>\n",
       "      <td>0.811160</td>\n",
       "      <td>0.900000</td>\n",
       "      <td>0.450000</td>\n",
       "      <td>0.450000</td>\n",
       "      <td>0.473684</td>\n",
       "    </tr>\n",
       "  </tbody>\n",
       "</table><p>"
      ],
      "text/plain": [
       "<IPython.core.display.HTML object>"
      ]
     },
     "metadata": {},
     "output_type": "display_data"
    },
    {
     "name": "stderr",
     "output_type": "stream",
     "text": [
      "/usr/local/lib/python3.8/dist-packages/sklearn/metrics/_classification.py:1471: UndefinedMetricWarning: Precision is ill-defined and being set to 0.0 in labels with no predicted samples. Use `zero_division` parameter to control this behavior.\n",
      "  _warn_prf(average, modifier, msg_start, len(result))\n",
      "/usr/local/lib/python3.8/dist-packages/sklearn/metrics/_classification.py:1471: UndefinedMetricWarning: Precision is ill-defined and being set to 0.0 in labels with no predicted samples. Use `zero_division` parameter to control this behavior.\n",
      "  _warn_prf(average, modifier, msg_start, len(result))\n",
      "/usr/local/lib/python3.8/dist-packages/sklearn/metrics/_classification.py:1471: UndefinedMetricWarning: Precision is ill-defined and being set to 0.0 in labels with no predicted samples. Use `zero_division` parameter to control this behavior.\n",
      "  _warn_prf(average, modifier, msg_start, len(result))\n",
      "/usr/local/lib/python3.8/dist-packages/sklearn/metrics/_classification.py:1471: UndefinedMetricWarning: Precision is ill-defined and being set to 0.0 in labels with no predicted samples. Use `zero_division` parameter to control this behavior.\n",
      "  _warn_prf(average, modifier, msg_start, len(result))\n",
      "/usr/local/lib/python3.8/dist-packages/sklearn/metrics/_classification.py:1471: UndefinedMetricWarning: Precision is ill-defined and being set to 0.0 in labels with no predicted samples. Use `zero_division` parameter to control this behavior.\n",
      "  _warn_prf(average, modifier, msg_start, len(result))\n",
      "/usr/local/lib/python3.8/dist-packages/sklearn/metrics/_classification.py:1471: UndefinedMetricWarning: Precision is ill-defined and being set to 0.0 in labels with no predicted samples. Use `zero_division` parameter to control this behavior.\n",
      "  _warn_prf(average, modifier, msg_start, len(result))\n",
      "/usr/local/lib/python3.8/dist-packages/sklearn/metrics/_classification.py:1471: UndefinedMetricWarning: Precision is ill-defined and being set to 0.0 in labels with no predicted samples. Use `zero_division` parameter to control this behavior.\n",
      "  _warn_prf(average, modifier, msg_start, len(result))\n",
      "/usr/local/lib/python3.8/dist-packages/sklearn/metrics/_classification.py:1471: UndefinedMetricWarning: Precision is ill-defined and being set to 0.0 in labels with no predicted samples. Use `zero_division` parameter to control this behavior.\n",
      "  _warn_prf(average, modifier, msg_start, len(result))\n",
      "/usr/local/lib/python3.8/dist-packages/sklearn/metrics/_classification.py:1471: UndefinedMetricWarning: Precision is ill-defined and being set to 0.0 in labels with no predicted samples. Use `zero_division` parameter to control this behavior.\n",
      "  _warn_prf(average, modifier, msg_start, len(result))\n",
      "/usr/local/lib/python3.8/dist-packages/sklearn/metrics/_classification.py:1471: UndefinedMetricWarning: Precision is ill-defined and being set to 0.0 in labels with no predicted samples. Use `zero_division` parameter to control this behavior.\n",
      "  _warn_prf(average, modifier, msg_start, len(result))\n"
     ]
    }
   ],
   "source": [
    "# Call train_fn() function\n",
    "## ALBERT model\n",
    "albert_trainer = train_fn(albert_classifier_model, albert_train_dataset, albert_valid_dataset, albert_tokenizer)\n",
    "\n",
    "## DistilBERT model\n",
    "distilbert_trainer = train_fn(distilbert_classifier_model, distilbert_train_dataset, distilbert_valid_dataset, distilbert_tokenizer)"
   ]
  },
  {
   "cell_type": "markdown",
   "metadata": {},
   "source": [
    "##### Task 11: Test the Selected Models"
   ]
  },
  {
   "cell_type": "code",
   "execution_count": 50,
   "metadata": {},
   "outputs": [],
   "source": [
    "# Write predict_and_save_results() function\n",
    "def predict_and_save_results(trainer, model, model_name, test_dataset):\n",
    "    prediction_output = trainer.predict(test_dataset)\n",
    "    prediction_output = np.argmax(prediction_output[0], axis = 1)\n",
    "    test_df['pred_from_%s'%model_name] = prediction_output"
   ]
  },
  {
   "cell_type": "code",
   "execution_count": 51,
   "metadata": {},
   "outputs": [
    {
     "data": {
      "text/html": [],
      "text/plain": [
       "<IPython.core.display.HTML object>"
      ]
     },
     "metadata": {},
     "output_type": "display_data"
    },
    {
     "name": "stderr",
     "output_type": "stream",
     "text": [
      "/usr/local/lib/python3.8/dist-packages/sklearn/metrics/_classification.py:1471: UndefinedMetricWarning: Precision is ill-defined and being set to 0.0 in labels with no predicted samples. Use `zero_division` parameter to control this behavior.\n",
      "  _warn_prf(average, modifier, msg_start, len(result))\n",
      "/usr/local/lib/python3.8/dist-packages/sklearn/metrics/_classification.py:1471: UndefinedMetricWarning: Precision is ill-defined and being set to 0.0 in labels with no predicted samples. Use `zero_division` parameter to control this behavior.\n",
      "  _warn_prf(average, modifier, msg_start, len(result))\n"
     ]
    },
    {
     "data": {
      "text/html": [],
      "text/plain": [
       "<IPython.core.display.HTML object>"
      ]
     },
     "metadata": {},
     "output_type": "display_data"
    },
    {
     "name": "stderr",
     "output_type": "stream",
     "text": [
      "/usr/local/lib/python3.8/dist-packages/sklearn/metrics/_classification.py:1471: UndefinedMetricWarning: Precision is ill-defined and being set to 0.0 in labels with no predicted samples. Use `zero_division` parameter to control this behavior.\n",
      "  _warn_prf(average, modifier, msg_start, len(result))\n",
      "/usr/local/lib/python3.8/dist-packages/sklearn/metrics/_classification.py:1471: UndefinedMetricWarning: Precision is ill-defined and being set to 0.0 in labels with no predicted samples. Use `zero_division` parameter to control this behavior.\n",
      "  _warn_prf(average, modifier, msg_start, len(result))\n"
     ]
    }
   ],
   "source": [
    "# Call predict_and_save_results() function.\n",
    "## ALBERT model\n",
    "predict_and_save_results(albert_trainer, albert_classifier_model, 'albert_model_name', albert_test_dataset)\n",
    "## DistilBERT model\n",
    "predict_and_save_results(distilbert_trainer, distilbert_classifier_model, 'distilbert_model_name', distilbert_test_dataset)"
   ]
  },
  {
   "cell_type": "markdown",
   "metadata": {},
   "source": [
    "##### Task 12: Identify Incorrect Predictions"
   ]
  },
  {
   "cell_type": "code",
   "execution_count": 52,
   "metadata": {},
   "outputs": [
    {
     "name": "stdout",
     "output_type": "stream",
     "text": [
      "0    False\n",
      "1     True\n",
      "2     True\n",
      "3    False\n",
      "4    False\n",
      "Name: pred_from_albert_model_name, dtype: bool\n",
      "0    False\n",
      "1     True\n",
      "2     True\n",
      "3    False\n",
      "4    False\n",
      "Name: pred_from_distilbert_model_name, dtype: bool\n"
     ]
    }
   ],
   "source": [
    "albert_col_name = 'pred_from_albert_model_name'\n",
    "distilbert_col_name = 'pred_from_distilbert_model_name'\n",
    "\n",
    "# For the ALBERT model\n",
    "print(test_df[albert_col_name] == test_labels)\n",
    "# For the DistilBERT model \n",
    "print(test_df[distilbert_col_name] == test_labels)"
   ]
  },
  {
   "cell_type": "markdown",
   "metadata": {},
   "source": [
    "##### Task 13: Categorize the Errors"
   ]
  },
  {
   "cell_type": "code",
   "execution_count": 53,
   "metadata": {},
   "outputs": [
    {
     "name": "stdout",
     "output_type": "stream",
     "text": [
      "                                                text  \\\n",
      "0  NON-DISCLOSURE AGREEMENT\\nRequired under JEA's...   \n",
      "3  NON-DISCLOSURE AGREEMENT\\nRequired under JEA's...   \n",
      "4  NON-DISCLOSURE AGREEMENT\\nRequired under JEA's...   \n",
      "\n",
      "                                          hypothesis         labels  \n",
      "0  Receiving Party shall not reverse engineer any...   NotMentioned  \n",
      "3  Receiving Party shall not disclose the fact th...   NotMentioned  \n",
      "4  Confidential Information shall only include te...  Contradiction  \n",
      "                                                text  \\\n",
      "0  NON-DISCLOSURE AGREEMENT\\nRequired under JEA's...   \n",
      "3  NON-DISCLOSURE AGREEMENT\\nRequired under JEA's...   \n",
      "4  NON-DISCLOSURE AGREEMENT\\nRequired under JEA's...   \n",
      "\n",
      "                                          hypothesis         labels  \n",
      "0  Receiving Party shall not reverse engineer any...   NotMentioned  \n",
      "3  Receiving Party shall not disclose the fact th...   NotMentioned  \n",
      "4  Confidential Information shall only include te...  Contradiction  \n"
     ]
    }
   ],
   "source": [
    "## ALBERT model\n",
    "albert_misclass = test_df[test_df[albert_col_name]!= test_labels].iloc[:,:3]\n",
    "print(albert_misclass)\n",
    "# For the DistilBERT model\n",
    "distilbert_misclass = test_df[test_df[distilbert_col_name]!= test_labels].iloc[:,:3]\n",
    "print(distilbert_misclass)"
   ]
  },
  {
   "cell_type": "markdown",
   "metadata": {},
   "source": [
    "##### Task 14: Visualize Error Categories"
   ]
  },
  {
   "cell_type": "code",
   "execution_count": 54,
   "metadata": {},
   "outputs": [
    {
     "name": "stdout",
     "output_type": "stream",
     "text": [
      "label_counts: labels\n",
      "NotMentioned     2\n",
      "Contradiction    1\n",
      "Name: count, dtype: int64\n"
     ]
    },
    {
     "data": {
      "image/png": "[encoded data removed]",
      "text/plain": [
       "<Figure size 640x480 with 1 Axes>"
      ]
     },
     "metadata": {},
     "output_type": "display_data"
    },
    {
     "name": "stdout",
     "output_type": "stream",
     "text": [
      "Maximum: 16632\n",
      "Mean: 16632\n",
      "Median: 16632\n"
     ]
    },
    {
     "data": {
      "image/png": "[encoded data removed]",
      "text/plain": [
       "<Figure size 640x480 with 1 Axes>"
      ]
     },
     "metadata": {},
     "output_type": "display_data"
    },
    {
     "name": "stdout",
     "output_type": "stream",
     "text": [
      "Maximum: 112\n",
      "Mean: 87.33333333333333\n",
      "Median: 84\n"
     ]
    },
    {
     "data": {
      "image/png": "[encoded data removed]",
      "text/plain": [
       "<Figure size 640x480 with 1 Axes>"
      ]
     },
     "metadata": {},
     "output_type": "display_data"
    }
   ],
   "source": [
    "## ALBERT model\n",
    "visualize_label(albert_misclass, 'test')\n",
    "visualize_features(albert_misclass, 'test', 'text', 'text')\n",
    "visualize_features(albert_misclass, 'test', 'hypothesis', 'hypothesis')"
   ]
  },
  {
   "cell_type": "code",
   "execution_count": 55,
   "metadata": {},
   "outputs": [
    {
     "name": "stdout",
     "output_type": "stream",
     "text": [
      "label_counts: labels\n",
      "NotMentioned     2\n",
      "Contradiction    1\n",
      "Name: count, dtype: int64\n"
     ]
    },
    {
     "data": {
      "image/png": "[encoded data removed]",
      "text/plain": [
       "<Figure size 640x480 with 1 Axes>"
      ]
     },
     "metadata": {},
     "output_type": "display_data"
    },
    {
     "name": "stdout",
     "output_type": "stream",
     "text": [
      "Maximum: 16632\n",
      "Mean: 16632\n",
      "Median: 16632\n"
     ]
    },
    {
     "data": {
      "image/png": "[encoded data removed]",
      "text/plain": [
       "<Figure size 640x480 with 1 Axes>"
      ]
     },
     "metadata": {},
     "output_type": "display_data"
    },
    {
     "name": "stdout",
     "output_type": "stream",
     "text": [
      "Maximum: 112\n",
      "Mean: 87.33333333333333\n",
      "Median: 84\n"
     ]
    },
    {
     "data": {
      "image/png": "[encoded data removed]",
      "text/plain": [
       "<Figure size 640x480 with 1 Axes>"
      ]
     },
     "metadata": {},
     "output_type": "display_data"
    }
   ],
   "source": [
    "## DistilBERT model\n",
    "visualize_label(distilbert_misclass, 'test')\n",
    "visualize_features(distilbert_misclass, 'test', 'text', 'text')\n",
    "visualize_features(distilbert_misclass, 'test', 'hypothesis', 'hypothesis')"
   ]
  },
  {
   "cell_type": "code",
   "execution_count": null,
   "metadata": {},
   "outputs": [],
   "source": []
  }
 ],
 "metadata": {
  "kernelspec": {
   "display_name": "Python 3",
   "language": "python",
   "name": "python3"
  },
  "language_info": {
   "codemirror_mode": {
    "name": "ipython",
    "version": 3
   },
   "file_extension": ".py",
   "mimetype": "text/x-python",
   "name": "python",
   "nbconvert_exporter": "python",
   "pygments_lexer": "ipython3",
   "version": "3.8.10"
  },
  "orig_nbformat": 4,
  "vscode": {
   "interpreter": {
    "hash": "e7370f93d1d0cde622a1f8e1c04877d8463912d04d973331ad4851f04de6915a"
   }
  }
 },
 "nbformat": 4,
 "nbformat_minor": 2
}
